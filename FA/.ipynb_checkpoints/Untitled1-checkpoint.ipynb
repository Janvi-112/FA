{
 "cells": [
  {
   "cell_type": "code",
   "execution_count": 1,
   "id": "7d9d93c3",
   "metadata": {},
   "outputs": [],
   "source": [
    "import pandas as pd\n",
    "import numpy as np"
   ]
  },
  {
   "cell_type": "code",
   "execution_count": 2,
   "id": "ae4b0721",
   "metadata": {},
   "outputs": [
    {
     "name": "stderr",
     "output_type": "stream",
     "text": [
      "/opt/homebrew/lib/python3.9/site-packages/IPython/core/interactiveshell.py:3361: DtypeWarning: Columns (25,108) have mixed types.Specify dtype option on import or set low_memory=False.\n",
      "  exec(code_obj, self.user_global_ns, self.user_ns)\n"
     ]
    }
   ],
   "source": [
    "mix = pd.read_csv('./new_mix.csv')\n",
    "fifa = pd.read_csv('./FullData.csv')"
   ]
  },
  {
   "cell_type": "code",
   "execution_count": 3,
   "id": "8a89ce4c",
   "metadata": {},
   "outputs": [],
   "source": [
    "l = ['La Liga', 'Premier League', 'Bundesliga', 'Ligue 1', 'Serie A']"
   ]
  },
  {
   "cell_type": "code",
   "execution_count": 4,
   "id": "3edcd957",
   "metadata": {},
   "outputs": [],
   "source": [
    "sm = fifa.loc[fifa['league_name'].isin(l)]"
   ]
  },
  {
   "cell_type": "code",
   "execution_count": 5,
   "id": "534b778e",
   "metadata": {},
   "outputs": [],
   "source": [
    "n = sm.club_name.unique()"
   ]
  },
  {
   "cell_type": "code",
   "execution_count": 6,
   "id": "84e00611",
   "metadata": {},
   "outputs": [],
   "source": [
    "o = mix.Squad.unique()"
   ]
  },
  {
   "cell_type": "code",
   "execution_count": 7,
   "id": "e4e8900d",
   "metadata": {},
   "outputs": [
    {
     "data": {
      "text/plain": [
       "array(['AC_Milan', 'Alaves', 'Angers', 'Arminia_Bielefeld', 'Arsenal',\n",
       "       'Aston_Villa', 'Atalanta', 'Athletic_Club', 'Atletico_Madrid',\n",
       "       'Augsburg', 'Barcelona', 'Bayer_Leverkusen', 'Bayern_Munich',\n",
       "       'Bochum', 'Bologna', 'Bordeaux', 'Borussia_Dortmund',\n",
       "       'Borussia_M.Gladbach', 'Brentford', 'Brest', 'Brighton', 'Burnley',\n",
       "       'Cadiz', 'Cagliari', 'Celta_Vigo', 'Chelsea', 'Clermont_Foot',\n",
       "       'Crystal_Palace', 'Eintracht_Frankfurt', 'Elche', 'Empoli',\n",
       "       'Espanyol', 'Everton', 'FC_Cologne', 'Fiorentina', 'Freiburg',\n",
       "       'Genoa', 'Getafe', 'Granada', 'Greuther_Fuerth', 'Hertha_Berlin',\n",
       "       'Hoffenheim', 'Inter', 'Juventus', 'Lazio', 'Leeds', 'Leicester',\n",
       "       'Lens', 'Levante', 'Lille', 'Liverpool', 'Lorient', 'Lyon',\n",
       "       'Mainz_05', 'Mallorca', 'Manchester_City', 'Manchester_United',\n",
       "       'Marseille', 'Metz', 'Monaco', 'Montpellier', 'Nantes', 'Napoli',\n",
       "       'Newcastle_United', 'Nice', 'Norwich', 'Osasuna',\n",
       "       'Paris_Saint_Germain', 'RasenBallsport_Leipzig', 'Rayo_Vallecano',\n",
       "       'Real_Betis', 'Real_Madrid', 'Real_Sociedad', 'Reims', 'Rennes',\n",
       "       'Roma', 'Saint-Etienne', 'Salernitana', 'Sampdoria', 'Sassuolo',\n",
       "       'Sevilla', 'Southampton', 'Spezia', 'Strasbourg', 'Torino',\n",
       "       'Tottenham', 'Troyes', 'Udinese', 'Union_Berlin', 'Valencia',\n",
       "       'Venezia', 'Verona', 'VfB_Stuttgart', 'Villarreal', 'Watford',\n",
       "       'West_Ham', 'Wolfsburg', 'Wolverhampton_Wanderers'], dtype=object)"
      ]
     },
     "execution_count": 7,
     "metadata": {},
     "output_type": "execute_result"
    }
   ],
   "source": [
    "n.sort()\n",
    "n"
   ]
  },
  {
   "cell_type": "code",
   "execution_count": 8,
   "id": "e4dbfe82",
   "metadata": {},
   "outputs": [
    {
     "data": {
      "text/plain": [
       "array(['AC_Milan', 'Alaves', 'Angers', 'Arminia_Bielefeld', 'Arsenal',\n",
       "       'Aston_Villa', 'Atalanta', 'Athletic_Club', 'Atletico_Madrid',\n",
       "       'Augsburg', 'Barcelona', 'Bayer_Leverkusen', 'Bayern_Munich',\n",
       "       'Bochum', 'Bologna', 'Bordeaux', 'Borussia_Dortmund',\n",
       "       'Borussia_M.Gladbach', 'Brentford', 'Brest', 'Brighton', 'Burnley',\n",
       "       'Cadiz', 'Cagliari', 'Celta_Vigo', 'Chelsea', 'Clermont_Foot',\n",
       "       'Crystal_Palace', 'Eintracht_Frankfurt', 'Elche', 'Empoli',\n",
       "       'Espanyol', 'Everton', 'FC_Cologne', 'Fiorentina', 'Freiburg',\n",
       "       'Genoa', 'Getafe', 'Granada', 'Greuther_Fuerth', 'Hertha_Berlin',\n",
       "       'Hoffenheim', 'Inter', 'Juventus', 'Lazio', 'Leeds', 'Leicester',\n",
       "       'Lens', 'Levante', 'Lille', 'Liverpool', 'Lorient', 'Lyon',\n",
       "       'Mainz_05', 'Mallorca', 'Manchester_City', 'Manchester_United',\n",
       "       'Marseille', 'Metz', 'Monaco', 'Montpellier', 'Nantes', 'Napoli',\n",
       "       'Newcastle_United', 'Nice', 'Norwich', 'Osasuna',\n",
       "       'Paris_Saint_Germain', 'RasenBallsport_Leipzig', 'Rayo_Vallecano',\n",
       "       'Real_Betis', 'Real_Madrid', 'Real_Sociedad', 'Reims', 'Rennes',\n",
       "       'Roma', 'Saint-Etienne', 'Salernitana', 'Sampdoria', 'Sassuolo',\n",
       "       'Sevilla', 'Southampton', 'Spezia', 'Strasbourg', 'Torino',\n",
       "       'Tottenham', 'Troyes', 'Udinese', 'Union_Berlin', 'Valencia',\n",
       "       'Venezia', 'Verona', 'VfB_Stuttgart', 'Villarreal', 'Watford',\n",
       "       'West_Ham', 'Wolfsburg', 'Wolverhampton_Wanderers'], dtype=object)"
      ]
     },
     "execution_count": 8,
     "metadata": {},
     "output_type": "execute_result"
    }
   ],
   "source": [
    "o.sort()\n",
    "o"
   ]
  },
  {
   "cell_type": "code",
   "execution_count": 9,
   "id": "36b409a8",
   "metadata": {},
   "outputs": [
    {
     "data": {
      "text/plain": [
       "array(['DF', 'MF', 'FW', 'GK'], dtype=object)"
      ]
     },
     "execution_count": 9,
     "metadata": {},
     "output_type": "execute_result"
    }
   ],
   "source": [
    "mix.Pos.unique()"
   ]
  },
  {
   "cell_type": "code",
   "execution_count": 10,
   "id": "b370690a",
   "metadata": {},
   "outputs": [
    {
     "data": {
      "text/plain": [
       "True"
      ]
     },
     "execution_count": 10,
     "metadata": {},
     "output_type": "execute_result"
    }
   ],
   "source": [
    "set(o) == set(n)"
   ]
  },
  {
   "cell_type": "code",
   "execution_count": null,
   "id": "4cb102b8",
   "metadata": {},
   "outputs": [],
   "source": []
  }
 ],
 "metadata": {
  "kernelspec": {
   "display_name": "Python 3 (ipykernel)",
   "language": "python",
   "name": "python3"
  },
  "language_info": {
   "codemirror_mode": {
    "name": "ipython",
    "version": 3
   },
   "file_extension": ".py",
   "mimetype": "text/x-python",
   "name": "python",
   "nbconvert_exporter": "python",
   "pygments_lexer": "ipython3",
   "version": "3.9.10"
  }
 },
 "nbformat": 4,
 "nbformat_minor": 5
}
